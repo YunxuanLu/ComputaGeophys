{
 "cells": [
  {
   "cell_type": "markdown",
   "metadata": {
    "slideshow": {
     "slide_type": "slide"
    }
   },
   "source": [
    "<h1><center>计算地球物理简介</center></h1>\n",
    "\n",
    "[<center><img src=\"./figs/mars_movie_frameshot.png\" style=\"float: center; height:330px\" /><center>](https://geodynamics.org/cig/news/research-highlights/february-2019/)\n",
    "\n",
    "<div style=\"clear: both\"></div>\n",
    "<center>汪宇锋</center>\n",
    "<div style=\"clear: both\"></div>\n",
    "<center>地球物理与空间信息学院</center>\n",
    "<div style=\"clear: both\"></div>\n",
    "<center>2021年12月</center>"
   ]
  },
  {
   "cell_type": "markdown",
   "metadata": {
    "slideshow": {
     "slide_type": "slide"
    }
   },
   "source": [
    "## 什么是计算地球物理\n",
    "\n",
    "<br/>\n",
    "<font size=6.5>\n",
    "    \n",
    "- 地球物理学：是通过定量物理方法研究地球的自然科学，它通常使用地震波、重力、电磁、地热和放射能等物理方法；\n",
    "- 应用地球物理：使用地震、重力、磁、电和电磁等的方法来寻找石油、天然气、矿石、水等等具有经济开发价值的物体；\n",
    "- 固体地球物理：主要是研究地球内部结构及其起源、演化并預測其发展；\n",
    "- 计算地球物理：地球物理场数值模拟、地球动力学、地球物理数据处理等。\n",
    "    </font>"
   ]
  },
  {
   "cell_type": "markdown",
   "metadata": {
    "slideshow": {
     "slide_type": "slide"
    }
   },
   "source": [
    "## 计算地球物理实践\n",
    "\n",
    "<table>\n",
    "  <tr>\n",
    "    <td><img src=\"./figs/bm1.png\"  height:220px\" /></td>\n",
    "    <td><img src=\"./figs/bm2.png\"  height:220px\" /></td> \n",
    "  </tr>\n",
    " </table>\n",
    "        \n",
    "    \n",
    "[BLACK MAGIC IN GEOPHYSICAL PROSPECTING](https://library.seg.org/doi/epdf/10.1190/1.1437076)\n",
    "\n"
   ]
  },
  {
   "cell_type": "markdown",
   "metadata": {
    "slideshow": {
     "slide_type": "slide"
    }
   },
   "source": [
    "## 计算地球物理实践\n",
    "<br/>\n",
    "<font size=6.5>\n",
    "    \n",
    "地球物理学家通常会面临着一个挑战，当采用成熟的商业软件进行地球物理数据处理时，往往注重于流程而不清楚软件背后的具体算法实现，本课程就是让学生理解并动手实现这些算法，地球物理研究通常是如下模式：\n",
    "\n",
    "$$ \n",
    "\\boxed{\\begin{array}{c}\\mathrm{Field}\\\\\\mathrm{Geophysical}\\\\\\mathrm{Data}\\end{array}}\n",
    "\\Longrightarrow \n",
    "\\boxed{\\begin{array}{c}\\mathrm{Magic\\,Black}\\\\\\mathrm{Box\\,of\\, Geophysical}\\\\\\mathrm{Data\\,Processing}\\end{array}}\n",
    "\\Longrightarrow \n",
    "\\boxed{\\begin{array}{c}\\mathrm{Top-notch}\\\\\\mathrm{Geophysical}\\\\\\mathrm{Result}\\end{array}}\n",
    "$$\n",
    "        </font>\n"
   ]
  },
  {
   "cell_type": "markdown",
   "metadata": {
    "slideshow": {
     "slide_type": "slide"
    }
   },
   "source": [
    "## Python and Beyond\n",
    "<br/>\n",
    "<font size=6.5>\n",
    "    \n",
    "- strip away some of the **magic black box** nature of how students are commonly introduced to geophysical computing, and to provide a better conceptual idea of what is going on when software is applied to tackle geophysical problems； \n",
    "\n",
    "- not to \"reinvent the wheel\" on absolutely every algorithm because this would take far too long and one would never finish finding solutions to the problem at hand；\n",
    "\n",
    "- focus on the **Python** language and leverage its open-source, diverse and well-validated computational toolkits including **Numpy** and **Scipy** as well as the strong plotting library **Matplotlib**.  \n",
    "    </font>\n"
   ]
  },
  {
   "cell_type": "markdown",
   "metadata": {
    "slideshow": {
     "slide_type": "slide"
    }
   },
   "source": [
    "## [Open-Source Software](https://en.wikipedia.org/wiki/Comparison_of_free_geophysics_software)\n",
    "\n",
    "<center><img src=\"./figs/opengeo.png\" style=\"float: center; height:600px\" /><center>\n",
    "\n"
   ]
  },
  {
   "cell_type": "markdown",
   "metadata": {
    "slideshow": {
     "slide_type": "slide"
    }
   },
   "source": [
    "## 开源研究\n",
    "<br/>\n",
    "\n",
    "<table>\n",
    "  <tr>\n",
    "    <td><img src=\"./figs/unixart.png\" width=\"1000\" /></td>\n",
    "    <td>“Abandoning the habit of secrecy in favor of process transparency and peer review was the crucial step by which alchemy became chemistry. In the same way, it is beginning to appear that open-source development may signal the long-awaited maturation of software development as a discipline.” <br/>\n",
    "        -- Eric Raymond </td>\n",
    "  </tr>\n",
    " </table>\n"
   ]
  },
  {
   "cell_type": "markdown",
   "metadata": {
    "slideshow": {
     "slide_type": "subslide"
    }
   },
   "source": [
    "## 开源研究\n",
    "<br/>\n",
    "\n",
    "<table>\n",
    "  <tr>\n",
    "    <td><img src=\"./figs/claerbout.jpg\" width=\"1000\" /></td>\n",
    "    <td>“An article about computational science in a scientific publication is not the scholarship itself, it is merely advertising of the scholarship. The actual scholarship is the complete software development environment and the complete set of instructions which generated the figures.” <br/>\n",
    "        -- Jon Claerbout </td>\n",
    "  </tr>\n",
    " </table>\n"
   ]
  },
  {
   "cell_type": "markdown",
   "metadata": {
    "slideshow": {
     "slide_type": "subslide"
    }
   },
   "source": [
    "## 开源研究\n",
    "<br/>\n",
    "\n",
    "<table>\n",
    "  <tr>\n",
    "    <td><img src=\"./figs/Harold.jpeg\" width=\"800\" /></td>\n",
    "    <td>“We want ideas, and in particular programs, that work in one place to work elsewhere. One form of objectivity is that published science must work elsewhere than just in the author's laboratory or even just in the author's imagination; this requirement is called reproducibility.” <br/>\n",
    "        -- Harold Thimbleby </td>\n",
    "  </tr>\n",
    " </table>\n"
   ]
  },
  {
   "cell_type": "markdown",
   "metadata": {
    "slideshow": {
     "slide_type": "subslide"
    }
   },
   "source": [
    "## 开源研究\n",
    "<br/>\n",
    "\n",
    "<table>\n",
    "  <tr>\n",
    "    <td><img src=\"./figs/donoho.jpeg\" width=\"1500\" /></td>\n",
    "    <td>“Scientific computation is emerging as absolutely central to the scientific method, but the prevalence of very relaxed practices is leading to a credibility crisis. Reproducible computational research, in which all details of computations—code and data—are made conveniently available to others, is a necessary response to this crisis. The authors review their approach to reproducible research and describe how it has evolved over time, discussing the arguments for and against working reproducibly.” <br/>\n",
    "        -- David L. Donoho </td>\n",
    "  </tr>\n",
    " </table>\n"
   ]
  },
  {
   "cell_type": "markdown",
   "metadata": {
    "slideshow": {
     "slide_type": "subslide"
    }
   },
   "source": [
    "## 开源研究\n",
    "<br/>\n",
    "\n",
    "<table>\n",
    "  <tr>\n",
    "    <td><img src=\"./figs/fomel.jpeg\" width=\"2000\" /></td>\n",
    "    <td>“Despite our poor ability to get new adherents to the philosophy of reproducible research, we continued producing maybe 800 pages a year of documents in signal and image processing, steadily honing our skills at doing so. Although I always made the claim (which was true) that reproducibility was essential to pass wisdom on to the next generation, our experience was always that the most likely recipient would be the author herself at a later stage of life.” <br/>\n",
    "        -- Sergey Fomel, 2009 </td>\n",
    "  </tr>\n",
    " </table>\n"
   ]
  },
  {
   "cell_type": "markdown",
   "metadata": {
    "slideshow": {
     "slide_type": "slide"
    }
   },
   "source": [
    "## [Madagascar](https://www.reproducibility.org)\n",
    "<br/>\n",
    "\n",
    "\n",
    "<center><img src=\"./figs/madagascar.jpg\" width=\"800\" /></center>\n"
   ]
  },
  {
   "cell_type": "markdown",
   "metadata": {
    "slideshow": {
     "slide_type": "subslide"
    }
   },
   "source": [
    "## [Madagascar](https://www.reproducibility.org)\n",
    "<br/>\n",
    "\n",
    "<table>\n",
    "  <tr>\n",
    "    <td><img src=\"./figs/pyramid1.jpg\" width=\"400\" /></td>\n",
    "    <td><img src=\"./figs/pyramid2.jpg\" width=\"400\" /></td>\n",
    "    <td><img src=\"./figs/pyramid3.jpg\" width=\"450\" /></td>\n",
    "  </tr>\n",
    " </table>\n"
   ]
  },
  {
   "cell_type": "markdown",
   "metadata": {
    "slideshow": {
     "slide_type": "subslide"
    }
   },
   "source": [
    "## [Madagascar安装](https://www.reproducibility.org/wiki/Installation)\n",
    "<br/>\n",
    "\n",
    "- `git clone https://github.com/ahay/src RSFSRC`\n",
    "- `./configure --prefix=/directory/where/you/want/madagascar/installed`\n",
    "- `make install`\n",
    "- `source ~/RSFSRC/share/madagascar/etc/env.sh`\n",
    "- `export DATAPATH=~/RSFDATA/`\n",
    "\n"
   ]
  },
  {
   "cell_type": "markdown",
   "metadata": {
    "slideshow": {
     "slide_type": "slide"
    }
   },
   "source": [
    "## 高性能计算\n",
    "<br/>\n",
    "<font size=6.5>\n",
    "    \n",
    "- Python may not be the optimal language when dealing with large-scale 3D geophysical computing problems, it is highly desirable to develop **parallel computing** solutions. \n",
    "\n",
    "- In this course we will begin to explore these more advanced concepts using the **OpenMP, MPI and CUDA**. \n",
    "\n",
    "- We hope this course will assist students in designing better geophysical computing solutions for read-world problems that will facilitate achievement of the student's geophysical research and data processing goals.\n",
    "    </font>"
   ]
  },
  {
   "cell_type": "code",
   "execution_count": 1,
   "metadata": {
    "slideshow": {
     "slide_type": "subslide"
    }
   },
   "outputs": [
    {
     "name": "stderr",
     "output_type": "stream",
     "text": [
      "/Users/wangyufeng/opt/anaconda3/lib/python3.8/site-packages/IPython/core/display.py:724: UserWarning: Consider using IPython.display.IFrame instead\n",
      "  warnings.warn(\"Consider using IPython.display.IFrame instead\")\n"
     ]
    },
    {
     "data": {
      "text/html": [
       "<iframe width=\"560\" height=\"315\" src=\"https://www.youtube-nocookie.com/embed/1wOxSfESmsY\" title=\"YouTube video player\" frameborder=\"0\" allow=\"accelerometer; autoplay; clipboard-write; encrypted-media; gyroscope; picture-in-picture\" allowfullscreen></iframe>"
      ],
      "text/plain": [
       "<IPython.core.display.HTML object>"
      ]
     },
     "execution_count": 1,
     "metadata": {},
     "output_type": "execute_result"
    }
   ],
   "source": [
    "from IPython.display import HTML\n",
    "HTML('<iframe width=\"560\" height=\"315\" src=\"https://www.youtube-nocookie.com/embed/1wOxSfESmsY\" title=\"YouTube video player\" frameborder=\"0\" allow=\"accelerometer; autoplay; clipboard-write; encrypted-media; gyroscope; picture-in-picture\" allowfullscreen></iframe>')"
   ]
  },
  {
   "cell_type": "markdown",
   "metadata": {
    "slideshow": {
     "slide_type": "slide"
    }
   },
   "source": [
    "## 课程内容\n",
    "\n",
    "<font size=6>\n",
    "    \n",
    "* 计算地球物理的基础: \n",
    "    * **Linux工作环境和远程服务器**\n",
    "    * **地球物理高性能并行计算**\n",
    "      \n",
    "* 数值计算方法求解偏微分方程: \n",
    "    * **偏微分方程与数值离散**\n",
    "    * **椭圆型偏微分方程与数值计算**\n",
    "    * **抛物型偏微分方程与数值计算**\n",
    "    * **双曲型偏微分方程与数值计算** \n",
    "    \n",
    "* 计算地球物理方法的应用\n",
    "    * **地球物理线性反演问题**\n",
    "    </font>"
   ]
  },
  {
   "cell_type": "markdown",
   "metadata": {
    "slideshow": {
     "slide_type": "slide"
    }
   },
   "source": [
    "# 参考资料\n",
    "<br/>\n",
    "<font size=5>\n",
    "    \n",
    "* [**Madagascar**](https://reproducibility.org/wiki/Main_Page) is an open-source software package for multidimensional data analysis and reproducible computational experiments.\n",
    "* [**SeismicUnix**](https://en.wikipedia.org/wiki/Seismic_Unix) is an open source seismic utilities package which was supported by the Center for Wave Phenomena (CWP) at the Colorado School of Mines (CSM). \n",
    "* [**CIG**](https://geodynamics.org/cig/) is a community-driven organization that advances Earth science by developing and disseminating software for geophysics and related fields.\n",
    "* [**COMPUTATIONAL SEISMOLOGY: A PRACTICAL INTRODUCTION**](http://www.computational-seismology.org/) is an introductory text to a range of numerical methods used today to simulate time-dependent processes in Earth science, physics, engineering, and many other fields.\n",
    "* [**GPGN535**](https://github.com/jshragge/GPGN535) This course develops the principles of geophysical computing in the context of simulating and validating numerical solutions to the types of partial differential equations commonly found in geophysical investigations.\n",
    "    </font>"
   ]
  },
  {
   "cell_type": "markdown",
   "metadata": {
    "slideshow": {
     "slide_type": "slide"
    }
   },
   "source": [
    "# [Unix/Linux简介](https://www.oreilly.com/library/view/running-linux-third/156592469X/ch01s02.html)\n",
    "<br/>\n",
    "<font size=4.5>\n",
    "    \n",
    "- **Unix** is one of the most popular operating systems worldwide because of its large support base and distribution. It was originally developed as a multitasking system for minicomputers and mainframes in the mid-1970s.    \n",
    " \n",
    "- The real reason for Unix’s popularity? Many hackers feel that Unix is the Right Thing—the One True Operating System. Hence, the development of Linux by an expanding group of Unix hackers who want to get their hands dirty with their own system.\n",
    "    \n",
    "- **Linux** is a freely distributable version of Unix, created in the early 1990s by Finnish software engineer **Linus Torvalds** and the Free Software Foundation (FSF).\n",
    "    - 1985 Free Software Foundation (FSF) founded by **Richard Stallman**. Along with other programmers creates the tools needed to make a UNIX compatible OS.\n",
    "    \n",
    "    - 1985 Professor **Andy Tannenbaum** creates a UNIX like operating system based on System V Unix for the IBM PC & PC/AT computers.  It is called **Minix**.\n",
    "    \n",
    "    - 1989 Richard Stallman releases GPL and **GNU** software but lacks a free kernel.\n",
    "    \n",
    "    - 1991 Building on the concepts in Minix, **Linus Torvalds** (Finnish college student) develops **Linux** along with help from other users on the web.\n",
    "  \n",
    " </font>"
   ]
  },
  {
   "cell_type": "markdown",
   "metadata": {
    "slideshow": {
     "slide_type": "subslide"
    }
   },
   "source": [
    "# Unix/Linux先驱\n",
    "<br/>\n",
    "    \n",
    "  <tr>\n",
    "    <td><img src=\"./figs/andy.jpeg\" style=\"float: left; height:400px\" /></td>\n",
    "    <td><img src=\"./figs/richard.jpeg\" style=\"float: left; height:400px\" /></td>   \n",
    "    <td><img src=\"./figs/linus.jpeg\" style=\"float: left; height:400px\" /></td>  \n",
    "  </tr>\n",
    " </table>\n"
   ]
  },
  {
   "cell_type": "markdown",
   "metadata": {
    "slideshow": {
     "slide_type": "subslide"
    }
   },
   "source": [
    "# What Linux is?\n",
    "<br/>\n",
    "<font size=6.5>\n",
    "    \n",
    "- Strictly speaking Linux refers to the kernel.\n",
    "- GNU/Linux more accurately describes the Operating System. Linux Kernel combined with GNU utilities and libraries.\n",
    "- Distribution - GNU/Linux bundled with other applications.  Examples Red Hat Linux, Debian, Ubuntu, Suse, Knoppix, etc.\n",
    "- Distributions can be compiled and maintained by an individual or corporation. Can be small (single floppy disk) or span several CD/DVDs. (see www.distrowatch.com for more information)\n",
    "    </font>\n"
   ]
  },
  {
   "cell_type": "markdown",
   "metadata": {
    "slideshow": {
     "slide_type": "subslide"
    }
   },
   "source": [
    "# What Linux is?\n",
    "\n",
    "<center><img src=\"./figs/linux_variants.png\" style=\"float: center; height:600px\" /><center>\n"
   ]
  },
  {
   "cell_type": "markdown",
   "metadata": {
    "slideshow": {
     "slide_type": "subslide"
    }
   },
   "source": [
    "# Open Source Software\n",
    "<br/>\n",
    "<font size=5>\n",
    "    \n",
    "- Open Source Software (OSS) generally refers to software for which the source code is available and which the licensing scheme permits the user to modify it and redistribute it in modified or unmodified form.\n",
    "- Nobody should be restricted by the software they use. There are four freedoms that every user should have:\n",
    "    - the freedom to use the software for any purpose, \n",
    "    - the freedom to change the software to suit your needs, \n",
    "    - the freedom to share the software with your friends and neighbors, and \n",
    "    - the freedom to share the changes you make. \n",
    "- When a program offers users all of these freedoms, we call it free software (https://www.gnu.org/).\n",
    "    </font>\n",
    "\n"
   ]
  },
  {
   "cell_type": "markdown",
   "metadata": {
    "slideshow": {
     "slide_type": "subslide"
    }
   },
   "source": [
    "## Build my Linux OS from scratch\n",
    "<br/>\n",
    "<font size=5>\n",
    "    \n",
    "- Download [https://ubuntu.com/download/desktop Ubuntu 20.04.1 LTS] and make the U disk system\n",
    "    - `sudo fdisk -l` to check your disk (/dev/sdc for example).\n",
    "    - Format your U disk `sudo umount /media/disk` and then `sudo mkfs.vfat /dev/sdc`.\n",
    "    - `sudo dd if=/home/wyf/Downloads/ubuntu-20.04.1-desktop-amd64.iso of=/dev/sdc` where `/dev/sdc` is the U disk \n",
    "    \n",
    "- Add super user \n",
    "    - `sudo passwd root`\n",
    "    - `chmod u+w /etc/sudoers`\n",
    "    - `su; vi /etc/sudoers` and add `wyf ALL=(ALL) ALL`\n",
    "    - `chmod u-w /etc/sudoers`\n",
    "    </font>"
   ]
  },
  {
   "cell_type": "markdown",
   "metadata": {
    "slideshow": {
     "slide_type": "subslide"
    }
   },
   "source": [
    "<font size=5>\n",
    "    \n",
    "- Add domestic source for Ubuntu\n",
    "\t- `sudo cp /etc/apt/sources.list /etc/apt/sources.list.bak`\n",
    "\t- `sudo vim /etc/apt/sources.list` and add *mirrorsaliyun.com* or *mirrors.tuna.tsinghua.edu.cn* source\n",
    "\t- `sudo apt update` If GPG Error use `sudo apt-key adv --keyserver keyserver.ubuntu.com --recv-keys AFSRE5TRQR3WR(public key in error log)`\t\n",
    "- `sudo apt install aptitude; sudo aptitude update; sudo aptitude install build-essential`\n",
    "- Install some useful packages: `sudo apt install make gcc g++ scons git tree`\n",
    "    </font>"
   ]
  },
  {
   "cell_type": "markdown",
   "metadata": {
    "slideshow": {
     "slide_type": "subslide"
    }
   },
   "source": [
    "<font size=5>\n",
    "    \n",
    "- Install [https://code.visualstudio.com/ VS Code]\t\n",
    "\n",
    "- Install Texlive 2020\t\n",
    "\t- Download [https://mirrors.tuna.tsinghua.edu.cn/CTAN/systems/texlive/Images/ Texlive 2020]\n",
    "\t- `sudo mkdir /media/texlive`\n",
    "\t- `sudo mount -o loop *texlive2020.iso /media/texlive`\n",
    "\t- `sudo ./media/texlive/install-tl`\n",
    "\t- Edit env path\n",
    "\t\t+ `echo \"export MANPATH=${MANPATH}:/usr/local/texlive/2020/texmf-dist/doc/man\" >> ~/.bashrc`\n",
    "        + `echo \"export INFOPATH=${INFOPATH}:/usr/local/texlive/2020/texmf-dist/doc/info\" >> ~/.bashrc`\n",
    "\t\t+ `echo \"export PATH=${PATH}:/usr/local/texlive/2020/bin/x86_64-linux\" >> ~/.bashrc`\n",
    "\t\t+ `source .bashrc`\n",
    "        \n",
    "        </font>\n",
    "\n"
   ]
  },
  {
   "cell_type": "markdown",
   "metadata": {
    "slideshow": {
     "slide_type": "subslide"
    }
   },
   "source": [
    "<font size=5>\n",
    "    \n",
    "- Install Anaconda3.8 and some packages (TensorFlow2.3, PyTorch)\n",
    "\t- Download [https://www.anaconda.com/products/individual Anaconda3] and `bash Anaconda3.8.sh`\n",
    "\t- `conda create -n envname python.version` to create a new environment with specific python version;\n",
    "\t- Share env to YMAL file\n",
    "\t\t+ `conda env export > environment.yaml`;\n",
    "\t\t+ `conda env create -f environment.yaml`;\n",
    "\t- Install TensorFlow 2.3\n",
    "\t\t+ `conda create -n tf23`\n",
    "        + `conda install cudatoolkit=10.1`\n",
    "\t\t+ `conda install cudnn=7.6.5`\n",
    "\t\t+ `pip install tensorflow-gpu==2.3.0`\n",
    "\t- Install PyTorch\n",
    "\t\t+ `conda create -n pytorch17`\n",
    "\t\t+ `conda install pytorch torchvision torchaudio cudatoolkit=10.2 -c pytorch`\n",
    "</font>"
   ]
  },
  {
   "cell_type": "markdown",
   "metadata": {
    "slideshow": {
     "slide_type": "subslide"
    }
   },
   "source": [
    "<font size=5>\n",
    "    \n",
    "- Install Matlab 2017a (dvd1.iso, dvd2.iso, crack.rar)\n",
    "\t- `sudo apt install unrar` and `sudo unrar x *.rar`\n",
    "\t- `sudo mkdir /media/matlab`\n",
    "\t- `sudo mount -o loop *dvd1.iso /media/matlab`\n",
    "\t- `sudo /media/matlab/install`\n",
    "\t- After 75% finished, `sudo umount /media/matlab` and `sudo mount -o loop *dvd2.iso /media/matlab` \n",
    "\t- Fill license number in readme.txt file\n",
    "\t- `sudo umount /media/matlab` and `sudo rm -r /media/matlab`\n",
    "\t- Activate Matlab\n",
    "\t\t+ `sudo mkdir /usr/local/MATLAB/R2017a/bin/licenses/`\n",
    "        + `sudo cp license_standalone.lic /usr/local/MATLAB/R2017a/bin/licenses/`\n",
    "\t\t+ `sudo cp libmwservices.so /usr/local/MATLAB/R2017a/bin/glnxa64/`\n",
    "\t\t+ `sudo /usr/local/MATLAB/R2017a/bin/matlab`\n",
    "\t- Edit env path\n",
    "\t\t+ `sudo gedit .bashrc`\n",
    "\t\t+ `export PATH=/usr/local/MATLAB/R2017a/bin:$PATH`\n",
    "\t\t+ `source .bashrc`\n",
    "</font>"
   ]
  },
  {
   "cell_type": "markdown",
   "metadata": {
    "slideshow": {
     "slide_type": "subslide"
    }
   },
   "source": [
    "<font size=5>   \n",
    "    \n",
    "- Install [http://www.ahay.org/ Madagascar 3.0]\n",
    "\t- `git clone https://github.com/ahay/src RSFSRC`\n",
    "\t- `sudo ln -s /usr/local/MATLAB/R2017a/bin/mex /usr/local/bin/mex`\n",
    "\t- `./configure API=matlab --prefix=$HOME/RSFROOT`\n",
    "\t- Check `config.py` to make sure all essential Madagascar depenency have been install, otherwise, use `sudo aptitude package` with `nYY`\n",
    "\t- `make; sudo make install`\n",
    "\t- `chown -R wyf:wyf $RSFROOT`\n",
    "\t- Edit env path\n",
    "\t\t+ `source ~/RSFROOT/share/madagascar/etc/env.sh`\n",
    "        + `export DATAPATH=~/RSFDATA/`\n",
    "\t\t+ `export RSFFIGS=~/RSFFIGS/`\n",
    "\t- Install *segtex*\n",
    "\t\t+ `git clone https://github.com/SEGTeX/texmf \\$HOME`\n",
    "\t\t+ `texhash`\n",
    "\t\t+ `export LATEX2HTML=$HOME/texmf/latex2html`\n",
    "\t\t+ `source .bashrc`\n",
    "\t- Install [https://www.xm1math.net/texmaker/ TexMaker5.0.4]\n",
    "    \n",
    "    \n",
    "</font>\n",
    "\n"
   ]
  },
  {
   "cell_type": "markdown",
   "metadata": {
    "slideshow": {
     "slide_type": "subslide"
    }
   },
   "source": [
    "## Linux基本命令操作\n",
    "\n",
    "\n",
    "<center><img src=\"./figs/cheatsheetcn.png\" style=\"float: center; height:600px\" /><center>\n",
    "\n"
   ]
  },
  {
   "cell_type": "code",
   "execution_count": 3,
   "metadata": {
    "scrolled": true,
    "slideshow": {
     "slide_type": "subslide"
    }
   },
   "outputs": [
    {
     "data": {
      "text/html": [
       "<iframe width=\"560\" height=\"315\" src=\"https://www.youtube-nocookie.com/embed/BMGixkvJ-6w\" title=\"YouTube video player\" frameborder=\"0\" allow=\"accelerometer; autoplay; clipboard-write; encrypted-media; gyroscope; picture-in-picture\" allowfullscreen></iframe>"
      ],
      "text/plain": [
       "<IPython.core.display.HTML object>"
      ]
     },
     "execution_count": 3,
     "metadata": {},
     "output_type": "execute_result"
    }
   ],
   "source": [
    "from IPython.display import HTML\n",
    "HTML('<iframe width=\"560\" height=\"315\" src=\"https://www.youtube-nocookie.com/embed/BMGixkvJ-6w\" title=\"YouTube video player\" frameborder=\"0\" allow=\"accelerometer; autoplay; clipboard-write; encrypted-media; gyroscope; picture-in-picture\" allowfullscreen></iframe>')"
   ]
  },
  {
   "cell_type": "markdown",
   "metadata": {
    "slideshow": {
     "slide_type": "slide"
    }
   },
   "source": [
    "# 下节课预告\n",
    "\n",
    "\n",
    "<center><img src=\"./figs/fd.png\" style=\"float: center; height:500px\" /><center>"
   ]
  }
 ],
 "metadata": {
  "celltoolbar": "Slideshow",
  "kernelspec": {
   "display_name": "Python 3 (ipykernel)",
   "language": "python",
   "name": "python3"
  },
  "language_info": {
   "codemirror_mode": {
    "name": "ipython",
    "version": 3
   },
   "file_extension": ".py",
   "mimetype": "text/x-python",
   "name": "python",
   "nbconvert_exporter": "python",
   "pygments_lexer": "ipython3",
   "version": "3.8.8"
  },
  "toc": {
   "base_numbering": 1,
   "nav_menu": {},
   "number_sections": true,
   "sideBar": true,
   "skip_h1_title": false,
   "title_cell": "Table of Contents",
   "title_sidebar": "Contents",
   "toc_cell": false,
   "toc_position": {},
   "toc_section_display": true,
   "toc_window_display": false
  }
 },
 "nbformat": 4,
 "nbformat_minor": 2
}
